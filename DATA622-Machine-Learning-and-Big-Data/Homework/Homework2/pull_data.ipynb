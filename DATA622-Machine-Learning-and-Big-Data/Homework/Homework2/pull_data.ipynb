{
 "cells": [
  {
   "cell_type": "code",
   "execution_count": 1,
   "metadata": {},
   "outputs": [],
   "source": [
    "#!/usr/bin/env python3\n",
    "# -*- coding: utf-8 -*-\n",
    "\"\"\"\n",
    "Created on Fri Sep 20 23:43:58 2019\n",
    "\n",
    "@author: Jonathan Hernandez\n",
    "\"\"\"\n",
    "\n",
    "import kaggle\n",
    "import re\n",
    "\n",
    "# competition[0] get the desired competition name which we can use\n",
    "# kaggle.api.competition_download_file() to get the training and test data\n",
    "\n",
    "def download_train_data(kaggle_download_url):\n",
    "    # training dataset\n",
    "    # competition name lookup (use regex to find the name of the competition)\n",
    "    competition_name = re.search(r'(?<=\\/c\\/)(.*)(?=\\/download)',\n",
    "                                 kaggle_download_url)\n",
    "    train_titanic = kaggle.api.competition_download_file(competition_name[0],\n",
    "                                                         file_name='train.csv')\n",
    "    return train_titanic\n",
    "\n",
    "def download_test_data(kaggle_download_url):    \n",
    "    # test dataset\n",
    "    # competition name lookup (use regex to find the name of the competition)\n",
    "    competition_name = re.search(r'(?<=\\/c\\/)(.*)(?=\\/download)',\n",
    "                                 kaggle_download_url)\n",
    "    test_titanic = kaggle.api.competition_download_file(competition_name[0],\n",
    "                                                        file_name='test.csv')\n",
    "    return test_titanic"
   ]
  },
  {
   "cell_type": "code",
   "execution_count": 2,
   "metadata": {},
   "outputs": [
    {
     "name": "stdout",
     "output_type": "stream",
     "text": [
      "train.csv: Skipping, found more recently modified local copy (use --force to force download)\n",
      "test.csv: Skipping, found more recently modified local copy (use --force to force download)\n"
     ]
    }
   ],
   "source": [
    "\n",
    "if __name__ == \"__main__\":\n",
    "    # authenticate using the kaggle.json file containing username/API token\n",
    "    kaggle.api.authenticate()\n",
    "\n",
    "    # get url's of training and test data of kaggle's titanic competition\n",
    "    kaggle_url = 'https://www.kaggle.com/c/titanic/download'\n",
    "    titanic_train = download_train_data(kaggle_url)\n",
    "    titanic_test = download_test_data(kaggle_url)"
   ]
  },
  {
   "cell_type": "code",
   "execution_count": null,
   "metadata": {},
   "outputs": [],
   "source": []
  }
 ],
 "metadata": {
  "anaconda-cloud": {},
  "kernelspec": {
   "display_name": "Python 3",
   "language": "python",
   "name": "python3"
  },
  "language_info": {
   "codemirror_mode": {
    "name": "ipython",
    "version": 3
   },
   "file_extension": ".py",
   "mimetype": "text/x-python",
   "name": "python",
   "nbconvert_exporter": "python",
   "pygments_lexer": "ipython3",
   "version": "3.7.3"
  }
 },
 "nbformat": 4,
 "nbformat_minor": 1
}
