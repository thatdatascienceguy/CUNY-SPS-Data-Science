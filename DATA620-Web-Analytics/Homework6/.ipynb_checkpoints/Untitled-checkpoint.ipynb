{
 "cells": [
  {
   "cell_type": "markdown",
   "metadata": {},
   "source": [
    "This Assignment is looking at a 2-mode network of Southern Club Women attending social events\n",
    "Brief Description: http://vlado.fmf.uni-lj.si/pub/networks/data/ucinet/ucidata.htm#davis\n",
    "Data can be found here: http://vlado.fmf.uni-lj.si/pub/networks/data/Ucinet/davis.dat\n",
    "\n",
    "I will look at the data, convert it to a matrix, turn it from a 2-mode network into one and examine\n",
    "who has attended the same events with other people."
   ]
  },
  {
   "cell_type": "code",
   "execution_count": 2,
   "metadata": {},
   "outputs": [],
   "source": [
    "import numpy as np\n",
    "import pandas as pd\n",
    "import networkx as nx\n",
    "import matplotlib.pyplot as plt\n",
    "%matplotlib notebook"
   ]
  },
  {
   "cell_type": "markdown",
   "metadata": {},
   "source": [
    "Read Data and extract information from it"
   ]
  },
  {
   "cell_type": "code",
   "execution_count": 3,
   "metadata": {},
   "outputs": [],
   "source": [
    "davis = open('davis.dat.txt','ro')\n",
    "lines = davis.readlines()"
   ]
  },
  {
   "cell_type": "markdown",
   "metadata": {},
   "source": [
    "Grab row and column labels and remove escape characters from the labels"
   ]
  },
  {
   "cell_type": "code",
   "execution_count": 4,
   "metadata": {},
   "outputs": [],
   "source": [
    "row_labels = lines[4:22]\n",
    "row_labels = [x.rstrip() for x in row_labels]\n",
    "\n",
    "column_labels = lines[23:37]\n",
    "column_labels = [x.rstrip() for x in column_labels]\n",
    "\n",
    "data = lines[38:57]"
   ]
  },
  {
   "cell_type": "markdown",
   "metadata": {},
   "source": [
    "Convert the data to a 18x14 matrix to make a adjacency matrix"
   ]
  },
  {
   "cell_type": "code",
   "execution_count": 5,
   "metadata": {},
   "outputs": [],
   "source": [
    "matrix = np.loadtxt(data, dtype=int)"
   ]
  },
  {
   "cell_type": "code",
   "execution_count": 6,
   "metadata": {},
   "outputs": [
    {
     "name": "stdout",
     "output_type": "stream",
     "text": [
      "Original Dataset 2-mode network as a matrix:\n",
      "[[1 1 1 1 1 1 0 1 1 0 0 0 0 0]\n",
      " [1 1 1 0 1 1 1 1 0 0 0 0 0 0]\n",
      " [0 1 1 1 1 1 1 1 1 0 0 0 0 0]\n",
      " [1 0 1 1 1 1 1 1 0 0 0 0 0 0]\n",
      " [0 0 1 1 1 0 1 0 0 0 0 0 0 0]\n",
      " [0 0 1 0 1 1 0 1 0 0 0 0 0 0]\n",
      " [0 0 0 0 1 1 1 1 0 0 0 0 0 0]\n",
      " [0 0 0 0 0 1 0 1 1 0 0 0 0 0]\n",
      " [0 0 0 0 1 0 1 1 1 0 0 0 0 0]\n",
      " [0 0 0 0 0 0 1 1 1 0 0 1 0 0]\n",
      " [0 0 0 0 0 0 0 1 1 1 0 1 0 0]\n",
      " [0 0 0 0 0 0 0 1 1 1 0 1 1 1]\n",
      " [0 0 0 0 0 0 1 1 1 1 0 1 1 1]\n",
      " [0 0 0 0 0 1 1 0 1 1 1 1 1 1]\n",
      " [0 0 0 0 0 0 1 1 0 1 1 1 1 1]\n",
      " [0 0 0 0 0 0 0 1 1 1 0 1 0 0]\n",
      " [0 0 0 0 0 0 0 0 1 0 1 0 0 0]\n",
      " [0 0 0 0 0 0 0 0 1 0 1 0 0 0]]\n"
     ]
    }
   ],
   "source": [
    "matrix_t = matrix.transpose()\n",
    "adj_matrix = np.matmul(matrix, matrix_t)\n",
    "print \"Original Dataset 2-mode network as a matrix:\"\n",
    "print matrix"
   ]
  },
  {
   "cell_type": "markdown",
   "metadata": {},
   "source": [
    "Make a dataset out of it and add row and column labels"
   ]
  },
  {
   "cell_type": "code",
   "execution_count": 7,
   "metadata": {},
   "outputs": [
    {
     "name": "stdout",
     "output_type": "stream",
     "text": [
      "           EVELYN  LAURA  THERESA  BRENDA  CHARLOTTE  FRANCES  ELEANOR  PEARL  \\\n",
      "EVELYN          8      6        7       6          3        4        3      3   \n",
      "LAURA           6      7        6       6          3        4        4      2   \n",
      "THERESA         7      6        8       6          4        4        4      3   \n",
      "BRENDA          6      6        6       7          4        4        4      2   \n",
      "CHARLOTTE       3      3        4       4          4        2        2      0   \n",
      "FRANCES         4      4        4       4          2        4        3      2   \n",
      "ELEANOR         3      4        4       4          2        3        4      2   \n",
      "PEARL           3      2        3       2          0        2        2      3   \n",
      "RUTH            3      3        4       3          2        2        3      2   \n",
      "VERNE           2      2        3       2          1        1        2      2   \n",
      "MYRNA           2      1        2       1          0        1        1      2   \n",
      "KATHERINE       2      1        2       1          0        1        1      2   \n",
      "SYLVIA          2      2        3       2          1        1        2      2   \n",
      "NORA            2      2        3       2          1        1        2      2   \n",
      "HELEN           1      2        2       2          1        1        2      1   \n",
      "DOROTHY         2      1        2       1          0        1        1      2   \n",
      "OLIVIA          1      0        1       0          0        0        0      1   \n",
      "FLORA           1      0        1       0          0        0        0      1   \n",
      "\n",
      "           RUTH  VERNE  MYRNA  KATHERINE  SYLVIA  NORA  HELEN  DOROTHY  \\\n",
      "EVELYN        3      2      2          2       2     2      1        2   \n",
      "LAURA         3      2      1          1       2     2      2        1   \n",
      "THERESA       4      3      2          2       3     3      2        2   \n",
      "BRENDA        3      2      1          1       2     2      2        1   \n",
      "CHARLOTTE     2      1      0          0       1     1      1        0   \n",
      "FRANCES       2      1      1          1       1     1      1        1   \n",
      "ELEANOR       3      2      1          1       2     2      2        1   \n",
      "PEARL         2      2      2          2       2     2      1        2   \n",
      "RUTH          4      3      2          2       3     2      2        2   \n",
      "VERNE         3      4      3          3       4     3      3        3   \n",
      "MYRNA         2      3      4          4       4     3      3        4   \n",
      "KATHERINE     2      3      4          6       6     5      5        4   \n",
      "SYLVIA        3      4      4          6       7     6      6        4   \n",
      "NORA          2      3      3          5       6     8      6        3   \n",
      "HELEN         2      3      3          5       6     6      7        3   \n",
      "DOROTHY       2      3      4          4       4     3      3        4   \n",
      "OLIVIA        1      1      1          1       1     2      1        1   \n",
      "FLORA         1      1      1          1       1     2      1        1   \n",
      "\n",
      "           OLIVIA  FLORA  \n",
      "EVELYN          1      1  \n",
      "LAURA           0      0  \n",
      "THERESA         1      1  \n",
      "BRENDA          0      0  \n",
      "CHARLOTTE       0      0  \n",
      "FRANCES         0      0  \n",
      "ELEANOR         0      0  \n",
      "PEARL           1      1  \n",
      "RUTH            1      1  \n",
      "VERNE           1      1  \n",
      "MYRNA           1      1  \n",
      "KATHERINE       1      1  \n",
      "SYLVIA          1      1  \n",
      "NORA            2      2  \n",
      "HELEN           1      1  \n",
      "DOROTHY         1      1  \n",
      "OLIVIA          2      2  \n",
      "FLORA           2      2  \n"
     ]
    }
   ],
   "source": [
    "dataset = pd.DataFrame(data=adj_matrix, index=row_labels, columns=row_labels)\n",
    "print dataset"
   ]
  },
  {
   "cell_type": "markdown",
   "metadata": {},
   "source": [
    "let's try to compute the sum of rows in the dataset; this will show us\n",
    "how many events have they been to amongst other people"
   ]
  },
  {
   "cell_type": "code",
   "execution_count": 8,
   "metadata": {},
   "outputs": [
    {
     "name": "stdout",
     "output_type": "stream",
     "text": [
      "Number of times each person attended a event with at least someone else:\n",
      "EVELYN       58\n",
      "LAURA        52\n",
      "THERESA      65\n",
      "BRENDA       53\n",
      "CHARLOTTE    28\n",
      "FRANCES      36\n",
      "ELEANOR      40\n",
      "PEARL        34\n",
      "RUTH         44\n",
      "VERNE        43\n",
      "MYRNA        39\n",
      "KATHERINE    47\n",
      "SYLVIA       57\n",
      "NORA         55\n",
      "HELEN        49\n",
      "DOROTHY      39\n",
      "OLIVIA       16\n",
      "FLORA        16\n",
      "dtype: int64\n"
     ]
    }
   ],
   "source": [
    "print \"Number of times each person attended a event with at least someone else:\"\n",
    "print dataset.sum()"
   ]
  },
  {
   "cell_type": "markdown",
   "metadata": {},
   "source": [
    "Make a graph out of this dataset"
   ]
  },
  {
   "cell_type": "code",
   "execution_count": 9,
   "metadata": {},
   "outputs": [
    {
     "name": "stdout",
     "output_type": "stream",
     "text": [
      "Name: \n",
      "Type: Graph\n",
      "Number of nodes: 18\n",
      "Number of edges: 157\n",
      "Average degree:  17.4444\n"
     ]
    }
   ],
   "source": [
    "G = nx.from_pandas_adjacency(dataset)\n",
    "print nx.info(G)\n",
    "pos = nx.spring_layout(G)"
   ]
  },
  {
   "cell_type": "markdown",
   "metadata": {},
   "source": [
    "We see that thi is nearly a complete graph based on the average degree.\n",
    "Theresa attended the most events with people followed by Evelyn, Sylvia and Nora as of the top 4.\n",
    "Let's plot the whole graph first and let's see if any nodes are of interest."
   ]
  },
  {
   "cell_type": "code",
   "execution_count": 10,
   "metadata": {},
   "outputs": [
    {
     "data": {
      "image/png": "[encoded data removed]",
      "text/plain": [
       "<Figure size 432x288 with 1 Axes>"
      ]
     },
     "metadata": {},
     "output_type": "display_data"
    }
   ],
   "source": [
    "plt.subplot(1,3,1)\n",
    "nx.draw(G, pos, with_labels=True)\n",
    "# edge weights\n",
    "nx.draw_networkx_edge_labels(G, pos, edge_labels = {(u,v): d['weight'] for u,v,d in G.edges(data=True)})\n",
    "plt.show()"
   ]
  },
  {
   "cell_type": "code",
   "execution_count": null,
   "metadata": {},
   "outputs": [],
   "source": []
  },
  {
   "cell_type": "code",
   "execution_count": null,
   "metadata": {},
   "outputs": [],
   "source": []
  }
 ],
 "metadata": {
  "kernelspec": {
   "display_name": "Python 2",
   "language": "python",
   "name": "python2"
  },
  "language_info": {
   "codemirror_mode": {
    "name": "ipython",
    "version": 2
   },
   "file_extension": ".py",
   "mimetype": "text/x-python",
   "name": "python",
   "nbconvert_exporter": "python",
   "pygments_lexer": "ipython2",
   "version": "2.7.15"
  }
 },
 "nbformat": 4,
 "nbformat_minor": 2
}
