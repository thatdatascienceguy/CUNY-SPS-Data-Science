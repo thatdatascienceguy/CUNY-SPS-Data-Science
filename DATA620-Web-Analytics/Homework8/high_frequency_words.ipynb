{
 "cells": [
  {
   "cell_type": "markdown",
   "metadata": {},
   "source": [
    "Jonathan Hernandez\n",
    "\n",
    "Examining Frequency of words used in Jeopardy Questions.\n",
    "\n",
    "I will look at the corpus of over 200k+ questions from 1984 to around January 2012\n",
    "\n",
    "Data: https://www.reddit.com/r/datasets/comments/1uyd0t/200000_jeopardy_questions_in_a_json_file/\n",
    "\n",
    "Download: https://drive.google.com/file/d/0BwT5wj_P7BKXb2hfM3d2RHU1ckE/view\n",
    "\n",
    "Reddit User u/trexmatt scraped the Jeopardy data from the below website:\n",
    "http://www.j-archive.com/"
   ]
  },
  {
   "cell_type": "code",
   "execution_count": 1,
   "metadata": {},
   "outputs": [],
   "source": [
    "import pandas as pd\n",
    "import nltk\n",
    "import re\n",
    "import enchant\n",
    "import matplotlib.pyplot as plt"
   ]
  },
  {
   "cell_type": "markdown",
   "metadata": {},
   "source": [
    "Read in json data"
   ]
  },
  {
   "cell_type": "code",
   "execution_count": 2,
   "metadata": {},
   "outputs": [
    {
     "name": "stdout",
     "output_type": "stream",
     "text": [
      "Number of questions:  216930\n"
     ]
    }
   ],
   "source": [
    "jeopardy = pd.read_json(\"JEOPARDY_QUESTIONS1.json\")\n",
    "print \"Number of questions: \", len(jeopardy)"
   ]
  },
  {
   "cell_type": "markdown",
   "metadata": {},
   "source": [
    "Extract only the questions that were asked"
   ]
  },
  {
   "cell_type": "code",
   "execution_count": 3,
   "metadata": {},
   "outputs": [],
   "source": [
    "questions = jeopardy.question"
   ]
  },
  {
   "cell_type": "markdown",
   "metadata": {},
   "source": [
    "Preview of some of the questions"
   ]
  },
  {
   "cell_type": "markdown",
   "metadata": {},
   "source": [
    "How many words are in the dataset?\n",
    "\n",
    "First let's join the questions into on big string as a corpus based on the whitespace character and then tokenize the words"
   ]
  },
  {
   "cell_type": "code",
   "execution_count": 4,
   "metadata": {},
   "outputs": [],
   "source": [
    "d = enchant.Dict(\"en_US\")\n",
    "# join the list of strings into one\n",
    "corpus = \" \".join(questions)\n",
    "tokens = nltk.word_tokenize(corpus) # tokenize the string"
   ]
  },
  {
   "cell_type": "markdown",
   "metadata": {},
   "source": [
    "Normalize the words"
   ]
  },
  {
   "cell_type": "code",
   "execution_count": 5,
   "metadata": {},
   "outputs": [
    {
     "name": "stdout",
     "output_type": "stream",
     "text": [
      "Number of words in corpus:  4086745\n"
     ]
    }
   ],
   "source": [
    "words = [w.lower() for w in tokens]\n",
    "n_words = len(words) # total number of words\n",
    "print \"Number of words in corpus: \", n_words"
   ]
  },
  {
   "cell_type": "markdown",
   "metadata": {},
   "source": [
    "Over 4 million words in over 28 years of jeopardy questions!\n",
    "\n",
    "Now let's see which words are actually part of the English language.\n",
    "\n",
    "For this assignment, i'm only considering 2 letters or more with no digits and special characters such as '.' as valid words\n",
    "\n",
    "I'll use regular expressions to filter out based on the above and then use the python enchant package's check() function to see if it is a valid word."
   ]
  },
  {
   "cell_type": "code",
   "execution_count": 6,
   "metadata": {},
   "outputs": [
    {
     "name": "stdout",
     "output_type": "stream",
     "text": [
      "Number of unique words:  37824\n"
     ]
    }
   ],
   "source": [
    "words_only = [w for w in words if re.search(r\"^[a-z]{1,}[^\\W|\\d]+$\",w)]\n",
    "words_only = [w for w in words_only if d.check(w)] # only if valid in the English Language\n",
    "n_unique_words = len(set(words_only)) \n",
    "print \"Number of unique words: \", n_unique_words"
   ]
  },
  {
   "cell_type": "markdown",
   "metadata": {},
   "source": [
    "After running for a few seconds, we see that the Jeopardy corpus of 28 years of questions contains close to 38000 unique English words."
   ]
  },
  {
   "cell_type": "markdown",
   "metadata": {},
   "source": [
    "Using the most common words, how many unique represent half of the total words in the corpus?\n",
    "\n",
    "I'll use nltk's FreqDist() function for this"
   ]
  },
  {
   "cell_type": "code",
   "execution_count": 7,
   "metadata": {},
   "outputs": [
    {
     "name": "stdout",
     "output_type": "stream",
     "text": [
      "Number of unique words that occur more than half of the total words in corpus:  0\n"
     ]
    }
   ],
   "source": [
    "fdist = nltk.FreqDist(words_only) # frequency distribution\n",
    "large_freq = 0 # counter\n",
    "for freq in fdist:\n",
    "    if fdist[freq] > (n_words / 2): # if greater than half the total words\n",
    "        large_freq = large_freq + 1\n",
    "print \"Number of unique words that occur more than half of the total words in corpus: \", large_freq"
   ]
  },
  {
   "cell_type": "markdown",
   "metadata": {},
   "source": [
    "This shows that none of the unique words don't even come close to half of the total words in the corpus"
   ]
  },
  {
   "cell_type": "markdown",
   "metadata": {},
   "source": [
    "Identify the 200 highest frequency words in this corpus\n",
    "\n",
    "I'll print out the words and frequencies and the output is in reverse order."
   ]
  },
  {
   "cell_type": "code",
   "execution_count": 8,
   "metadata": {},
   "outputs": [
    {
     "name": "stdout",
     "output_type": "stream",
     "text": [
      "the 159660\n",
      "of 113472\n",
      "this 106279\n",
      "in 80984\n",
      "to 50357\n",
      "for 35403\n",
      "is 34621\n",
      "was 29775\n",
      "on 23269\n",
      "it 20561\n",
      "from 17957\n",
      "with 17247\n",
      "that 15959\n",
      "by 15778\n",
      "his 15589\n",
      "as 15555\n",
      "these 13977\n",
      "he 12793\n",
      "you 12678\n",
      "one 11842\n",
      "an 11547\n",
      "at 11365\n",
      "name 11153\n",
      "or 10274\n",
      "first 9942\n",
      "are 8576\n",
      "its 8213\n",
      "who 7633\n",
      "city 7338\n",
      "here 7020\n",
      "be 6710\n",
      "has 6111\n",
      "and 6022\n",
      "country 5954\n",
      "her 5953\n",
      "man 5522\n",
      "named 5426\n",
      "called 5368\n",
      "state 5289\n",
      "have 5219\n",
      "about 5128\n",
      "can 5051\n",
      "but 4913\n",
      "when 4894\n",
      "seen 4860\n",
      "film 4756\n",
      "new 4745\n",
      "not 4736\n",
      "like 4731\n",
      "clue 4677\n",
      "type 4556\n",
      "were 4370\n",
      "up 4331\n",
      "she 4216\n",
      "made 4044\n",
      "your 3995\n",
      "crew 3982\n",
      "which 3978\n",
      "title 3931\n",
      "used 3881\n",
      "had 3874\n",
      "known 3670\n",
      "world 3605\n",
      "after 3591\n",
      "into 3570\n",
      "out 3515\n",
      "do 3474\n",
      "also 3431\n",
      "no 3426\n",
      "word 3286\n",
      "only 3274\n",
      "all 3253\n",
      "him 3199\n",
      "became 3163\n",
      "said 3152\n",
      "president 3132\n",
      "may 3125\n",
      "years 3058\n",
      "novel 2987\n",
      "played 2986\n",
      "wrote 2955\n",
      "over 2937\n",
      "my 2913\n",
      "they 2875\n",
      "capital 2862\n",
      "king 2715\n",
      "their 2714\n",
      "term 2656\n",
      "than 2612\n",
      "war 2594\n",
      "part 2590\n",
      "book 2541\n",
      "last 2517\n",
      "island 2510\n",
      "show 2489\n",
      "most 2480\n",
      "won 2478\n",
      "been 2402\n",
      "famous 2369\n",
      "french 2362\n"
     ]
    }
   ],
   "source": [
    "most_freq_100 = fdist.most_common(100) # 200 most frequent words sorted by count\n",
    "for word, frequency in most_freq_100: # iterate and print\n",
    "    print word, frequency"
   ]
  },
  {
   "cell_type": "markdown",
   "metadata": {},
   "source": [
    "We see that the most frequent word is 'the' followed by 'of', then 'this' as the top 3. After a while the frequencies start to decrease but a slower rate."
   ]
  },
  {
   "cell_type": "markdown",
   "metadata": {},
   "source": [
    "Create a graph that shows the relative frequency of these 200 words."
   ]
  },
  {
   "cell_type": "code",
   "execution_count": 15,
   "metadata": {},
   "outputs": [
    {
     "data": {
      "image/png": "[encoded data removed]",
      "text/plain": [
       "<Figure size 432x288 with 1 Axes>"
      ]
     },
     "metadata": {
      "needs_background": "dark"
     },
     "output_type": "display_data"
    }
   ],
   "source": [
    "# compute the relative frequency and round it to 4 decimal places\n",
    "frequency = [x[1] for x in most_freq_100] # frequencies of words\n",
    "rel_frequency = [round(float(x)/n_words, 4) for x in frequency]\n",
    "plt.plot(rel_frequency) # log-scale\n",
    "plt.xlabel(\"Rank of words in corpus\", color=\"w\")\n",
    "plt.ylabel(\"Relative Frequency of Words\", color=\"w\")\n",
    "plt.title(\"Zipf Plot of 100 Most Common Words\", color=\"w\")\n",
    "plt.xticks(color=\"w\")\n",
    "plt.yticks(color=\"w\")\n",
    "plt.show()"
   ]
  },
  {
   "cell_type": "markdown",
   "metadata": {},
   "source": [
    "We see that this plot shows that as the rank of a word decreases the relative frequency decreases a slower rate."
   ]
  },
  {
   "cell_type": "markdown",
   "metadata": {},
   "source": [
    "Does the observed relative frequency of these words follow Zipf’s law?"
   ]
  },
  {
   "cell_type": "markdown",
   "metadata": {},
   "source": [
    "Zipf's law: https://simple.wikipedia.org/wiki/Zipf%27s_law\n",
    "\n",
    "States that the frequency of a word is inversely porportional to it's rank in the frequency table.\n",
    "\n",
    "This applies as by looking at the graph, the slope decreases fast and for less frequent words. The other words after 'the' appear a fraction of times than 'the' and slowly decrease. The word distribution should follow a inverse porporational law which is what is shown above and Zip's law holds for this corpus."
   ]
  },
  {
   "cell_type": "markdown",
   "metadata": {},
   "source": [
    "In what ways do you think the frequency of the words in this corpus differ from “all words in all corpora.”\n",
    "\n",
    "The frequency of words in this corpus does slighly differ in all words in all corpora.\n",
    "Other corpora depending on context and setting may differ and have a different frequency distribution and may have\n",
    "not for example 'the' as the most common word. I say the frequency distribution follows a similar pattern just with different words and context."
   ]
  },
  {
   "cell_type": "code",
   "execution_count": null,
   "metadata": {},
   "outputs": [],
   "source": []
  }
 ],
 "metadata": {
  "kernelspec": {
   "display_name": "Python 2",
   "language": "python",
   "name": "python2"
  },
  "language_info": {
   "codemirror_mode": {
    "name": "ipython",
    "version": 2
   },
   "file_extension": ".py",
   "mimetype": "text/x-python",
   "name": "python",
   "nbconvert_exporter": "python",
   "pygments_lexer": "ipython2",
   "version": "2.7.15"
  }
 },
 "nbformat": 4,
 "nbformat_minor": 2
}
