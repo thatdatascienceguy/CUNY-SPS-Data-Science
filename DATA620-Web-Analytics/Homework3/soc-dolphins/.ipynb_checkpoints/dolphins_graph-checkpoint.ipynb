{
 "cells": [
  {
   "cell_type": "code",
   "execution_count": 1,
   "metadata": {},
   "outputs": [
    {
     "data": {
      "text/plain": [
       "' Author: Jonathan Hernandez\\nCUNYSPS DATA620 Homework 3 Assignment'"
      ]
     },
     "execution_count": 1,
     "metadata": {},
     "output_type": "execute_result"
    }
   ],
   "source": [
    "\"\"\" Author: Jonathan Hernandez\n",
    "CUNYSPS DATA620 Homework 3 Assignment\"\"\""
   ]
  },
  {
   "cell_type": "code",
   "execution_count": 2,
   "metadata": {},
   "outputs": [
    {
     "data": {
      "text/plain": [
       "\"I will load a .csv file containing information on dolphins and frequent association\\nbetween them living in a community off of Doubtful Sound, New Zealand.\\n\\nDolphins were labeled with id's and a undirected edge between two dolphins means that they\\nwere frequently associated\\n\\nDataset can be found here: http://www-personal.umich.edu/~mejn/netdata/dolphins.zip\\n\\nCitation:\\nD. Lusseau, K. Schneider, O. J. Boisseau, P. Haase, E. Slooten, and      \\nS. M. Dawson, The bottlenose dolphin community of Doubtful Sound features\\na large proportion of long-lasting associations, Behavioral Ecology and  \\nSociobiology 54, 396-405 (2003).\\n\""
      ]
     },
     "execution_count": 2,
     "metadata": {},
     "output_type": "execute_result"
    }
   ],
   "source": [
    "\"\"\"I will load a .csv file containing information on dolphins and frequent association\n",
    "between them living in a community off of Doubtful Sound, New Zealand.\n",
    "\n",
    "Dolphins were labeled with id's and a undirected edge between two dolphins means that they\n",
    "were frequently associated\n",
    "\n",
    "Dataset can be found here: http://www-personal.umich.edu/~mejn/netdata/dolphins.zip\n",
    "\n",
    "Citation:\n",
    "D. Lusseau, K. Schneider, O. J. Boisseau, P. Haase, E. Slooten, and      \n",
    "S. M. Dawson, The bottlenose dolphin community of Doubtful Sound features\n",
    "a large proportion of long-lasting associations, Behavioral Ecology and  \n",
    "Sociobiology 54, 396-405 (2003).\n",
    "\"\"\""
   ]
  },
  {
   "cell_type": "code",
   "execution_count": 3,
   "metadata": {},
   "outputs": [],
   "source": [
    "# import some libaries"
   ]
  },
  {
   "cell_type": "code",
   "execution_count": 5,
   "metadata": {},
   "outputs": [],
   "source": [
    "import networkx as nx"
   ]
  },
  {
   "cell_type": "code",
   "execution_count": 6,
   "metadata": {},
   "outputs": [],
   "source": [
    "import pandas as pd"
   ]
  },
  {
   "cell_type": "code",
   "execution_count": 8,
   "metadata": {},
   "outputs": [],
   "source": [
    "# read in the dolphins dataset\n",
    "dolphins = pd.read_csv(\"soc-dolphins.csv\")"
   ]
  },
  {
   "cell_type": "code",
   "execution_count": 9,
   "metadata": {},
   "outputs": [
    {
     "data": {
      "text/html": [
       "<div>\n",
       "<style scoped>\n",
       "    .dataframe tbody tr th:only-of-type {\n",
       "        vertical-align: middle;\n",
       "    }\n",
       "\n",
       "    .dataframe tbody tr th {\n",
       "        vertical-align: top;\n",
       "    }\n",
       "\n",
       "    .dataframe thead th {\n",
       "        text-align: right;\n",
       "    }\n",
       "</style>\n",
       "<table border=\"1\" class=\"dataframe\">\n",
       "  <thead>\n",
       "    <tr style=\"text-align: right;\">\n",
       "      <th></th>\n",
       "      <th>node from</th>\n",
       "      <th>node to</th>\n",
       "    </tr>\n",
       "  </thead>\n",
       "  <tbody>\n",
       "    <tr>\n",
       "      <th>0</th>\n",
       "      <td>11</td>\n",
       "      <td>1</td>\n",
       "    </tr>\n",
       "    <tr>\n",
       "      <th>1</th>\n",
       "      <td>15</td>\n",
       "      <td>1</td>\n",
       "    </tr>\n",
       "    <tr>\n",
       "      <th>2</th>\n",
       "      <td>16</td>\n",
       "      <td>1</td>\n",
       "    </tr>\n",
       "    <tr>\n",
       "      <th>3</th>\n",
       "      <td>41</td>\n",
       "      <td>1</td>\n",
       "    </tr>\n",
       "    <tr>\n",
       "      <th>4</th>\n",
       "      <td>43</td>\n",
       "      <td>1</td>\n",
       "    </tr>\n",
       "    <tr>\n",
       "      <th>5</th>\n",
       "      <td>48</td>\n",
       "      <td>1</td>\n",
       "    </tr>\n",
       "    <tr>\n",
       "      <th>6</th>\n",
       "      <td>18</td>\n",
       "      <td>2</td>\n",
       "    </tr>\n",
       "    <tr>\n",
       "      <th>7</th>\n",
       "      <td>20</td>\n",
       "      <td>2</td>\n",
       "    </tr>\n",
       "    <tr>\n",
       "      <th>8</th>\n",
       "      <td>27</td>\n",
       "      <td>2</td>\n",
       "    </tr>\n",
       "    <tr>\n",
       "      <th>9</th>\n",
       "      <td>28</td>\n",
       "      <td>2</td>\n",
       "    </tr>\n",
       "  </tbody>\n",
       "</table>\n",
       "</div>"
      ],
      "text/plain": [
       "   node from  node to\n",
       "0         11        1\n",
       "1         15        1\n",
       "2         16        1\n",
       "3         41        1\n",
       "4         43        1\n",
       "5         48        1\n",
       "6         18        2\n",
       "7         20        2\n",
       "8         27        2\n",
       "9         28        2"
      ]
     },
     "execution_count": 9,
     "metadata": {},
     "output_type": "execute_result"
    }
   ],
   "source": [
    "dolphins.head(10) # give a preview of the nodes"
   ]
  },
  {
   "cell_type": "code",
   "execution_count": 10,
   "metadata": {},
   "outputs": [],
   "source": [
    "# make the undirected graph from a pandas dataframe\n",
    "G = nx.from_pandas_edgelist(dolphins, source = 'node from', target = 'node to')"
   ]
  },
  {
   "cell_type": "code",
   "execution_count": 11,
   "metadata": {},
   "outputs": [],
   "source": [
    "# positions of the nodes\n",
    "pos = nx.spring_layout(G)"
   ]
  },
  {
   "cell_type": "code",
   "execution_count": 13,
   "metadata": {},
   "outputs": [
    {
     "data": {
      "image/png": "[encoded data removed]",
      "text/plain": [
       "<Figure size 432x288 with 1 Axes>"
      ]
     },
     "metadata": {},
     "output_type": "display_data"
    }
   ],
   "source": [
    "# draw graph with nodes, edges and labels positioned on the nodes\n",
    "nx.draw(G, pos = nx.spring_layout(G), with_labels = True)"
   ]
  },
  {
   "cell_type": "code",
   "execution_count": 14,
   "metadata": {},
   "outputs": [],
   "source": [
    "# write to a .gexf file to be read in using a graphing tool such as Gephi\n",
    "nx.write_gexf(G, \"dolphins_graph.gexf\")"
   ]
  },
  {
   "cell_type": "code",
   "execution_count": 15,
   "metadata": {},
   "outputs": [
    {
     "name": "stdout",
     "output_type": "stream",
     "text": [
      "Number of nodes:  62\n",
      "Number of edges:  159\n"
     ]
    }
   ],
   "source": [
    "# print out some statistics\n",
    "print \"Number of nodes: \", nx.number_of_nodes(G)\n",
    "print \"Number of edges: \", nx.number_of_edges(G)"
   ]
  },
  {
   "cell_type": "code",
   "execution_count": 16,
   "metadata": {},
   "outputs": [
    {
     "name": "stdout",
     "output_type": "stream",
     "text": [
      "Diameter of graph:  8\n"
     ]
    }
   ],
   "source": [
    "# diameter of a graph that is the greatest distance between any pair of nodes\n",
    "print \"Diameter of graph: \", nx.diameter(G)"
   ]
  },
  {
   "cell_type": "code",
   "execution_count": 17,
   "metadata": {},
   "outputs": [
    {
     "name": "stdout",
     "output_type": "stream",
     "text": [
      "Graph Density:  0.0840824960338\n"
     ]
    }
   ],
   "source": [
    "# Examine the density of a graph that is the number of edges is close to the \n",
    "# maximum edges on a graph. Low density is a sparse graph and high density is a \n",
    "# dense graph\n",
    "print \"Graph Density: \", nx.density(G)"
   ]
  },
  {
   "cell_type": "code",
   "execution_count": 18,
   "metadata": {},
   "outputs": [
    {
     "name": "stdout",
     "output_type": "stream",
     "text": [
      "Degree histogram:  [0, 9, 6, 6, 5, 8, 8, 7, 4, 4, 2, 2, 1]\n"
     ]
    }
   ],
   "source": [
    "# degree histogram\n",
    "print \"Degree histogram: \", nx.degree_histogram(G)"
   ]
  },
  {
   "cell_type": "code",
   "execution_count": null,
   "metadata": {},
   "outputs": [],
   "source": []
  }
 ],
 "metadata": {
  "kernelspec": {
   "display_name": "Python 2",
   "language": "python",
   "name": "python2"
  },
  "language_info": {
   "codemirror_mode": {
    "name": "ipython",
    "version": 2
   },
   "file_extension": ".py",
   "mimetype": "text/x-python",
   "name": "python",
   "nbconvert_exporter": "python",
   "pygments_lexer": "ipython2",
   "version": "2.7.15"
  }
 },
 "nbformat": 4,
 "nbformat_minor": 2
}
