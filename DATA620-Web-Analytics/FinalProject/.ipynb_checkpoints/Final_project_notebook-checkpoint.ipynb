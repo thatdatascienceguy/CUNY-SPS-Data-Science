{
 "cells": [
  {
   "cell_type": "markdown",
   "metadata": {},
   "source": [
    "CUNYSPS DATA 620 Final Project\n",
    "\n",
    "Author: Jonathan Hernandez\n",
    "\n",
    "Examining dataset of R answers from stackflow provided by Kaggle.com\n",
    "\n",
    "Summary:\n",
    "\n",
    "- This project is about examing answers of users who answer answers questions that use the 'R' tag. This dataset is up to date up to September 24th 2017. While there are 3 datasets, questions, answers and tags, for this project, I will soley look at the answers dataset.\n",
    "\n",
    "- Kaggle website of dataset: https://www.kaggle.com/stackoverflow/rquestions\n",
    "\n",
    "- Download location: https://www.kaggle.com/stackoverflow/rquestions/downloads/rquestions.zip/3\n",
    "\n",
    "- Two questions to be investigated and ask is\n",
    "\n",
    "    1. Is there any difference in frequency distribution between accepted answers and not accepted such as types of words used?\n",
    "    \n",
    "    2. Who are the top users with the most accepted answers?\n",
    "\n",
    "\n",
    "- I will use Text Processing/NLP to answer question 1. and use network analysis to answer question 2."
   ]
  },
  {
   "cell_type": "code",
   "execution_count": 1,
   "metadata": {},
   "outputs": [],
   "source": [
    "import numpy as np\n",
    "import scipy.stats # t-test\n",
    "import pandas as pd\n",
    "import matplotlib.pyplot as plt\n",
    "import networkx as nx\n",
    "import nltk\n",
    "import re\n",
    "import zipfile"
   ]
  },
  {
   "cell_type": "code",
   "execution_count": 2,
   "metadata": {},
   "outputs": [],
   "source": [
    "# read in the csv files\n",
    "# download the zip file and place it the same location as the script\n",
    "with zipfile.ZipFile(\"rquestions.zip\", 'r') as zip_ref:\n",
    "    zip_ref.extractall(\"rquestions\")\n",
    "    zip_ref.close()\n",
    "r_answers = pd.read_csv(\"rquestions/Answers.csv\")"
   ]
  },
  {
   "cell_type": "markdown",
   "metadata": {},
   "source": [
    "Look at the structure of the data and provide a preview "
   ]
  },
  {
   "cell_type": "code",
   "execution_count": 3,
   "metadata": {},
   "outputs": [
    {
     "name": "stdout",
     "output_type": "stream",
     "text": [
      "(250788, 7)\n",
      "Index([u'Id', u'OwnerUserId', u'CreationDate', u'ParentId', u'Score',\n",
      "       u'IsAcceptedAnswer', u'Body'],\n",
      "      dtype='object')\n",
      "      Id  OwnerUserId          CreationDate  ParentId  Score  \\\n",
      "0  79741       3259.0  2008-09-17T03:43:22Z     79709     -1   \n",
      "1  79768       6043.0  2008-09-17T03:48:29Z     79709      9   \n",
      "2  79779       8002.0  2008-09-17T03:49:36Z     79709      0   \n",
      "3  79788          NaN  2008-09-17T03:51:30Z     79709      4   \n",
      "4  79827      14257.0  2008-09-17T03:58:26Z     79709      1   \n",
      "5  79893      14928.0  2008-09-17T04:11:08Z     79709      6   \n",
      "6  83162      15842.0  2008-09-17T13:27:17Z     77434     70   \n",
      "7  83222       1428.0  2008-09-17T13:32:45Z     77434    236   \n",
      "8  86804          NaN  2008-09-17T19:39:37Z     79709      1   \n",
      "9  95598       1179.0  2008-09-18T18:49:09Z     95007      5   \n",
      "\n",
      "   IsAcceptedAnswer                                               Body  \n",
      "0             False  <p>It's tough to say definitively without know...  \n",
      "1             False  <p>use variables in the outer function instead...  \n",
      "2             False  <p>Third approach: inner function returns a re...  \n",
      "3             False  <p>It's not going to make much difference to m...  \n",
      "4             False  <p>I'm not sure I understand the question, but...  \n",
      "5             False  <p>Remember your Knuth.  \"Premature optimizati...  \n",
      "6             False  <p>If you're looking for something as nice as ...  \n",
      "7             False  <p>I use the <code>tail()</code> function:</p>...  \n",
      "8             False  <p>FYI, here's a full sample toy solution that...  \n",
      "9             False  <p>There are various ways of computing quantil...  \n"
     ]
    }
   ],
   "source": [
    "# questions with answers\n",
    "print r_answers.shape\n",
    "print r_answers.columns\n",
    "\n",
    "print r_answers.head(10)"
   ]
  },
  {
   "cell_type": "markdown",
   "metadata": {},
   "source": [
    "Keep only words in this case for simplicity (may get html tags which can be useful to see which html habits people use in their answers\n"
   ]
  },
  {
   "cell_type": "code",
   "execution_count": 4,
   "metadata": {},
   "outputs": [],
   "source": [
    "r_answers.Body = r_answers.Body.replace(r'[^A-Za-z]+', ' ', regex=True)"
   ]
  },
  {
   "cell_type": "markdown",
   "metadata": {},
   "source": [
    "Let's now do some analysis on the number of accepted answers and the ones that are not accepted by the SO community."
   ]
  },
  {
   "cell_type": "code",
   "execution_count": 5,
   "metadata": {},
   "outputs": [
    {
     "data": {
      "text/plain": [
       "<matplotlib.axes._subplots.AxesSubplot at 0x7ff64fcdf590>"
      ]
     },
     "execution_count": 5,
     "metadata": {},
     "output_type": "execute_result"
    },
    {
     "data": {
      "image/png": "[encoded data removed]",
      "text/plain": [
       "<Figure size 432x288 with 1 Axes>"
      ]
     },
     "metadata": {
      "needs_background": "light"
     },
     "output_type": "display_data"
    }
   ],
   "source": [
    "# Exploratory Data Analysis \n",
    "\n",
    "answers_accepted = pd.Series(r_answers.IsAcceptedAnswer).value_counts()\n",
    "answers_accepted.plot.bar(title = \"Tag = R answers answers accepted by the SO community\")"
   ]
  },
  {
   "cell_type": "markdown",
   "metadata": {},
   "source": [
    "Let's now look at the words in the dataset of answers accepted.\n",
    "\n",
    "Split dataset into two one with accepted answers and the other not accepted"
   ]
  },
  {
   "cell_type": "code",
   "execution_count": 6,
   "metadata": {},
   "outputs": [],
   "source": [
    "answers = r_answers[[\"IsAcceptedAnswer\", \"Body\"]]\n",
    "accepted = answers.loc[answers[\"IsAcceptedAnswer\"] == True]\n",
    "notaccepted = answers.loc[answers[\"IsAcceptedAnswer\"] == False]"
   ]
  },
  {
   "cell_type": "markdown",
   "metadata": {},
   "source": [
    "Use Python's nltk library and functions to word tokenize the corpus of text from each group"
   ]
  },
  {
   "cell_type": "code",
   "execution_count": 7,
   "metadata": {},
   "outputs": [],
   "source": [
    "corpus_accepted = \" \".join(accepted.Body)\n",
    "corpus_accepted = corpus_accepted.decode('utf-8')\n",
    "accepted_tokens = nltk.word_tokenize(corpus_accepted) # tokenize the string\n",
    "\n",
    "corpus_notaccepted = \" \".join(notaccepted.Body)\n",
    "corpus_notaccepted = corpus_notaccepted.decode('utf-8')\n",
    "notaccepted_tokens = nltk.word_tokenize(corpus_notaccepted)"
   ]
  },
  {
   "cell_type": "markdown",
   "metadata": {},
   "source": [
    "See how many words are in the accepted group and how many in the not accepted group"
   ]
  },
  {
   "cell_type": "code",
   "execution_count": 8,
   "metadata": {},
   "outputs": [
    {
     "name": "stdout",
     "output_type": "stream",
     "text": [
      "Number of words in the accepted group: 15746436 \n",
      "Number of unique words in accepted group 146007 \n",
      "\n",
      "Number of words in the not accepted group: 16679834 \n",
      "Number of unique words in not accepted group 148165 \n"
     ]
    }
   ],
   "source": [
    "accepted_words = [w.lower() for w in accepted_tokens]\n",
    "notaccepted_words = [w.lower() for w in notaccepted_tokens]\n",
    "\n",
    "print \"Number of words in the accepted group: %d \" % (len(accepted_words))\n",
    "print \"Number of unique words in accepted group %d \" % (len(set(accepted_words)))\n",
    "print\n",
    "print \"Number of words in the not accepted group: %d \" % (len(notaccepted_words))\n",
    "print \"Number of unique words in not accepted group %d \" % (len(set(notaccepted_words)))"
   ]
  },
  {
   "cell_type": "markdown",
   "metadata": {},
   "source": [
    "We see that more words are used in the not accepted group. This could be that there are more not accepted answers. Note that just because a answer is not accepted is not necessarily bad; it's just not voted by users but can have a high score.\n",
    "\n",
    "Now to make a frequency distribution and see the top 200 words in each group."
   ]
  },
  {
   "cell_type": "code",
   "execution_count": 9,
   "metadata": {},
   "outputs": [],
   "source": [
    "# now make a frequency distribution of words for each group\n",
    "fdist_accepted = nltk.FreqDist(accepted_words)\n",
    "fdist_notaccepted = nltk.FreqDist(notaccepted_words)\n",
    "most_accepted_200 = fdist_accepted.most_common(200)\n",
    "most_notaccepted_200 = fdist_notaccepted.most_common(200)"
   ]
  },
  {
   "cell_type": "code",
   "execution_count": 10,
   "metadata": {},
   "outputs": [
    {
     "name": "stdout",
     "output_type": "stream",
     "text": [
      "code 1008670\n",
      "p 686106\n",
      "the 449219\n",
      "pre 375733\n",
      "a 318117\n",
      "lt 315642\n",
      "to 240230\n",
      "x 208037\n",
      "you 182438\n",
      "data 167443\n",
      "i 160879\n",
      "is 148399\n",
      "c 148210\n",
      "in 145763\n",
      "of 143806\n",
      "gt 128577\n",
      "and 127638\n",
      "df 107643\n",
      "as 97911\n",
      "for 96242\n",
      "this 92672\n",
      "na 88771\n",
      "function 86320\n",
      "y 86223\n",
      "it 84589\n",
      "that 81470\n",
      "with 74647\n",
      "r 73523\n",
      "can 68534\n",
      "if 67815\n",
      "b 64612\n",
      "your 61743\n",
      "l 59848\n",
      "s 59694\n",
      "t 59134\n",
      "by 58240\n",
      "use 56080\n",
      "list 53639\n",
      "d 53167\n",
      "frame 51054\n",
      "be 50388\n",
      "n 47643\n",
      "true 46128\n",
      "com 45854\n",
      "library 44172\n",
      "are 43989\n",
      "not 43638\n",
      "https 43572\n",
      "here 41719\n",
      "v 39836\n",
      "value 39789\n",
      "table 39021\n",
      "m 39002\n",
      "id 38853\n",
      "from 38742\n",
      "on 38633\n",
      "do 38142\n",
      "e 36341\n",
      "names 36281\n",
      "which 35753\n",
      "false 35006\n",
      "or 34741\n",
      "using 34442\n",
      "strong 34409\n",
      "href 33322\n",
      "plot 33017\n",
      "but 32057\n",
      "date 31521\n",
      "have 31477\n",
      "all 31003\n",
      "f 30860\n",
      "li 30758\n",
      "then 30096\n",
      "so 30070\n",
      "will 29132\n",
      "length 29072\n",
      "we 28817\n",
      "stack 28700\n",
      "an 27896\n",
      "h 27336\n",
      "name 26850\n",
      "imgur 26808\n",
      "rel 26608\n",
      "png 26429\n",
      "group 26411\n",
      "get 26375\n",
      "ggplot 26251\n",
      "values 26250\n",
      "geom 26008\n",
      "matrix 25814\n",
      "time 25622\n",
      "em 25070\n",
      "one 24986\n",
      "want 24810\n",
      "column 24788\n",
      "col 24369\n",
      "text 24290\n",
      "first 24098\n",
      "aes 23816\n",
      "nofollow 23490\n",
      "g 23203\n",
      "each 22829\n",
      "dat 22684\n",
      "file 22456\n",
      "paste 22271\n",
      "example 21906\n",
      "test 21865\n",
      "at 21856\n",
      "like 21845\n",
      "set 21233\n",
      "need 21200\n",
      "z 20479\n",
      "just 20326\n",
      "mean 20195\n",
      "src 20075\n",
      "row 20046\n",
      "output 19470\n",
      "dt 19259\n",
      "img 19221\n",
      "what 19185\n",
      "package 19083\n",
      "there 18756\n",
      "alt 18711\n",
      "vector 18695\n",
      "amp 18415\n",
      "factor 18324\n",
      "out 18237\n",
      "my 17991\n",
      "var 17976\n",
      "type 17855\n",
      "call 17801\n",
      "class 17477\n",
      "lapply 17409\n",
      "new 17408\n",
      "noreferrer 17051\n",
      "variable 16938\n",
      "sample 16892\n",
      "http 16870\n",
      "more 16815\n",
      "would 16805\n",
      "image 16761\n",
      "should 16668\n",
      "sum 16547\n",
      "seq 16374\n",
      "also 16305\n",
      "max 16229\n",
      "numeric 16119\n",
      "input 16033\n",
      "read 16006\n",
      "line 15960\n",
      "character 15830\n",
      "description 15799\n",
      "could 15503\n",
      "size 15252\n",
      "html 15139\n",
      "see 15058\n",
      "enter 15021\n",
      "add 14723\n",
      "only 14582\n",
      "columns 14496\n",
      "try 14403\n",
      "return 14323\n",
      "rep 14288\n",
      "result 14215\n",
      "fill 14212\n",
      "no 13980\n",
      "number 13863\n",
      "some 13834\n",
      "when 13783\n",
      "create 13664\n",
      "nrow 13614\n",
      "scale 13431\n",
      "way 13309\n",
      "same 13221\n",
      "into 13148\n",
      "null 12876\n",
      "work 12625\n",
      "year 12573\n",
      "order 12555\n",
      "two 12480\n",
      "j 12270\n",
      "object 12034\n",
      "min 12023\n",
      "rows 12019\n",
      "color 11742\n",
      "model 11694\n",
      "make 11498\n",
      "case 11463\n",
      "element 11417\n",
      "dplyr 11416\n",
      "how 11288\n",
      "point 11075\n",
      "format 11045\n",
      "error 10996\n",
      "has 10963\n",
      "than 10941\n",
      "start 10918\n",
      "grid 10905\n",
      "apply 10897\n",
      "axis 10840\n"
     ]
    }
   ],
   "source": [
    "for word, frequency in most_accepted_200:\n",
    "    print word, frequency"
   ]
  },
  {
   "cell_type": "code",
   "execution_count": 11,
   "metadata": {},
   "outputs": [
    {
     "name": "stdout",
     "output_type": "stream",
     "text": [
      "code 942194\n",
      "p 749681\n",
      "the 463927\n",
      "pre 395239\n",
      "a 359196\n",
      "lt 336021\n",
      "to 256775\n",
      "x 213534\n",
      "you 195151\n",
      "i 186939\n",
      "data 184077\n",
      "c 161180\n",
      "is 159535\n",
      "in 158428\n",
      "of 152635\n",
      "gt 141112\n",
      "and 140589\n",
      "df 123068\n",
      "for 108578\n",
      "as 104856\n",
      "this 104250\n",
      "it 95487\n",
      "function 93172\n",
      "na 92256\n",
      "r 89344\n",
      "that 86276\n",
      "with 82348\n",
      "y 82142\n",
      "if 76337\n",
      "b 73062\n",
      "can 72500\n",
      "l 69290\n",
      "your 66493\n",
      "s 65836\n",
      "t 64410\n",
      "by 60450\n",
      "use 58452\n",
      "d 56878\n",
      "frame 56344\n",
      "be 56202\n",
      "list 53655\n",
      "n 50489\n",
      "library 50465\n",
      "true 49341\n",
      "not 48682\n",
      "are 45858\n",
      "table 45153\n",
      "v 43857\n",
      "com 43486\n",
      "from 42601\n",
      "on 42379\n",
      "m 41668\n",
      "here 41559\n",
      "id 41475\n",
      "do 41153\n",
      "using 40426\n",
      "https 40241\n",
      "value 39379\n",
      "which 39363\n",
      "but 39292\n",
      "href 38122\n",
      "names 37795\n",
      "or 37599\n",
      "e 37186\n",
      "have 36301\n",
      "false 35902\n",
      "strong 34195\n",
      "date 33822\n",
      "li 33286\n",
      "all 33276\n",
      "then 33257\n",
      "f 32726\n",
      "length 32553\n",
      "an 31473\n",
      "will 31276\n",
      "rel 31048\n",
      "so 29864\n",
      "nofollow 28598\n",
      "time 28509\n",
      "matrix 28296\n",
      "plot 27997\n",
      "file 27609\n",
      "name 27301\n",
      "one 27276\n",
      "get 27044\n",
      "want 26521\n",
      "group 25859\n",
      "package 25810\n",
      "col 25509\n",
      "h 25484\n",
      "values 25251\n",
      "like 24743\n",
      "em 24642\n",
      "column 24449\n",
      "first 24441\n",
      "example 23974\n",
      "dat 23941\n",
      "paste 23886\n",
      "my 23837\n",
      "each 23527\n",
      "test 23398\n",
      "http 23245\n",
      "at 22761\n",
      "we 22670\n",
      "row 22083\n",
      "what 22060\n",
      "set 21898\n",
      "ggplot 21757\n",
      "just 21747\n",
      "text 21523\n",
      "mean 21358\n",
      "stack 21128\n",
      "g 21126\n",
      "dt 20871\n",
      "z 20867\n",
      "there 20713\n",
      "need 20482\n",
      "would 20353\n",
      "out 20254\n",
      "amp 20154\n",
      "vector 19877\n",
      "png 19779\n",
      "also 19611\n",
      "new 19454\n",
      "imgur 19290\n",
      "sample 19217\n",
      "read 19159\n",
      "output 19118\n",
      "more 18703\n",
      "type 18229\n",
      "var 18124\n",
      "geom 17996\n",
      "could 17909\n",
      "html 17896\n",
      "sum 17874\n",
      "should 17614\n",
      "max 17462\n",
      "variable 17405\n",
      "numeric 17216\n",
      "factor 17032\n",
      "lapply 16936\n",
      "class 16930\n",
      "call 16839\n",
      "try 16793\n",
      "number 16601\n",
      "seq 16587\n",
      "character 16399\n",
      "rep 16367\n",
      "noreferrer 16342\n",
      "some 16250\n",
      "aes 16204\n",
      "way 15973\n",
      "nrow 15942\n",
      "return 15830\n",
      "solution 15828\n",
      "into 15492\n",
      "only 15451\n",
      "result 15357\n",
      "no 15341\n",
      "line 15268\n",
      "same 15254\n",
      "see 15235\n",
      "dplyr 15231\n",
      "columns 15197\n",
      "create 14610\n",
      "src 14409\n",
      "work 14378\n",
      "j 14048\n",
      "when 13963\n",
      "add 13788\n",
      "img 13760\n",
      "year 13717\n",
      "input 13678\n",
      "size 13495\n",
      "csv 13483\n",
      "rows 13400\n",
      "alt 13338\n",
      "how 13271\n",
      "null 13072\n",
      "two 13022\n",
      "error 12850\n",
      "org 12755\n",
      "apply 12736\n",
      "make 12665\n",
      "min 12652\n",
      "packages 12565\n",
      "answer 12539\n",
      "order 12432\n",
      "case 12380\n",
      "sapply 12334\n",
      "image 12314\n",
      "other 12239\n",
      "than 12232\n",
      "has 12195\n",
      "index 11839\n",
      "object 11649\n",
      "start 11595\n",
      "model 11577\n",
      "any 11533\n",
      "problem 11523\n"
     ]
    }
   ],
   "source": [
    "for word, frequency in most_notaccepted_200:\n",
    "    print word, frequency"
   ]
  },
  {
   "cell_type": "markdown",
   "metadata": {},
   "source": [
    "What is most interesting about the two frequency lists is that regardless of the answer someone puts using the 'R' tag, the top 9 words have the same order. Code is the top word which makes sense if one is asking a R question.\n",
    "\n",
    "Let's look at how many words appear in both groups. We'll use the idea of intersection in Set Theory to accomplish this that is \n",
    "\n",
    "Accepted $\\cap$ NotAccepted"
   ]
  },
  {
   "cell_type": "code",
   "execution_count": 12,
   "metadata": {},
   "outputs": [
    {
     "name": "stdout",
     "output_type": "stream",
     "text": [
      "66010\n"
     ]
    }
   ],
   "source": [
    "print len(set(notaccepted_words).intersection(accepted_words))"
   ]
  },
  {
   "cell_type": "markdown",
   "metadata": {},
   "source": [
    "Let's now do a t-test of the two groups of frequency distributions and see if they are similar or not."
   ]
  },
  {
   "cell_type": "code",
   "execution_count": 13,
   "metadata": {},
   "outputs": [
    {
     "name": "stdout",
     "output_type": "stream",
     "text": [
      "t-test results for the accepted answers and not accepted t-statistic and p-value: 0.3030 0.7619\n"
     ]
    }
   ],
   "source": [
    "a_rel_frequency = [fdist_accepted[freq] for freq in fdist_accepted]\n",
    "na_rel_frequency = [fdist_notaccepted[freq] for freq in fdist_notaccepted]\n",
    "\n",
    "# let's now do a t-test to see how similar are these two groups are\n",
    "t_test_answers = scipy.stats.ttest_ind(na_rel_frequency, a_rel_frequency, equal_var=False)\n",
    "print \"t-test results for the accepted answers and not accepted t-statistic and p-value: %.4f %.4f\" % (round(t_test_answers.statistic,4), round(t_test_answers.pvalue, 4))"
   ]
  },
  {
   "cell_type": "markdown",
   "metadata": {},
   "source": [
    "With such a high p-value, we see that we fail to reject the null hypothesis that is the difference in means is $\\neq 0$ and there is a difference between the two means of the groups and not statistically significant.\n",
    "\n",
    "Most would think that the means would not be equal as we are dealing with two types of answers; accepted by the answers community and those that are not.\n",
    "\n",
    "Different frequency distributions also show this case as for one the sample sizes are different, and different words could appear in the answers in either group or both and if even both, may not have the same frequency count."
   ]
  },
  {
   "cell_type": "markdown",
   "metadata": {},
   "source": [
    "Now let's turn to the second question to be asked:\n",
    "\n",
    "## Who are the top users with the most accepted answers?\n",
    "\n",
    "Let's use a network graph to solve this problem and see visually. I'll use Gephi to load the graph.\n",
    "\n",
    "Nodes: Answer id's (Id)\n",
    "\n",
    "Directed Edge: An edge is if the answer Id answered a question identified by ParentId\n",
    "\n",
    "Id --> ParentId\n",
    "\n",
    "Edge Weight: Score of the answer (Score)\n",
    "\n",
    "Edge Attribute: Answer Owner Id (id of account OwnerUserId)\n"
   ]
  },
  {
   "cell_type": "code",
   "execution_count": 14,
   "metadata": {},
   "outputs": [
    {
     "name": "stdout",
     "output_type": "stream",
     "text": [
      "number of nodes: 221058\n",
      "number of edges: 110529\n",
      "Number of Answered questions that were accepted: 110529\n"
     ]
    }
   ],
   "source": [
    "# convert these to str objects so they can be loaded properly when building the directed weighted graph\n",
    "r_answers['ParentId'] = r_answers['ParentId'].apply(str)\n",
    "r_answers['Id'] = r_answers['Id'].apply(str)\n",
    "r_answers['OwnerUserId'] = r_answers.OwnerUserId.apply(str)\n",
    "r_answers['OwnerUserId'] = r_answers.OwnerUserId.str.replace('.0', '')\n",
    "r_answers['OwnerUserId'] = r_answers.OwnerUserId.str.replace('nan', '-1') # -1 if it doesn't exist\n",
    "\n",
    "top_accepted = r_answers.loc[r_answers.IsAcceptedAnswer == True]\n",
    "\n",
    "# make the directed graph\n",
    "DG = nx.from_pandas_edgelist(top_accepted, 'Id', 'ParentId', ['Score', 'OwnerUserId'],\n",
    "                             create_using = nx.DiGraph())\n",
    "\n",
    "# example of data in the graph\n",
    "print \"number of nodes: %d\" % (len(DG.nodes()))\n",
    "print \"number of edges: %d\" % (len(DG.edges()))\n",
    "print \"Number of Answered questions that were accepted: %d\" % (len(top_accepted.Id))"
   ]
  },
  {
   "cell_type": "markdown",
   "metadata": {},
   "source": [
    "There are twice as many nodes as there are edges\n",
    "\n",
    "Our Directed Weighted graph has been constructed, let's do some statistics"
   ]
  },
  {
   "cell_type": "code",
   "execution_count": 15,
   "metadata": {},
   "outputs": [
    {
     "name": "stdout",
     "output_type": "stream",
     "text": [
      "Density of the graph: 0.000002\n"
     ]
    }
   ],
   "source": [
    "print \"Density of the graph: %f\" % (nx.density(DG))"
   ]
  },
  {
   "cell_type": "markdown",
   "metadata": {},
   "source": [
    "Let's look at the nodes with a high in-degree and examine their graph structure."
   ]
  },
  {
   "cell_type": "code",
   "execution_count": 16,
   "metadata": {},
   "outputs": [
    {
     "name": "stdout",
     "output_type": "stream",
     "text": [
      "Max in-degree: 1\n",
      "Min in-degree: 1\n"
     ]
    }
   ],
   "source": [
    "indegree_dist = {}\n",
    "for i in pd.unique(top_accepted.Id):\n",
    "    indegree_dist[i] = DG.out_degree(i)\n",
    "\n",
    "#plt.hist(indegree_dist.values())\n",
    "print \"Max in-degree: %d\" % (max(indegree_dist.values()))\n",
    "print \"Min in-degree: %d\" % (min(indegree_dist.values()))\n",
    "\n",
    "# example of using 500 nodes; make a subgraph\n"
   ]
  },
  {
   "cell_type": "markdown",
   "metadata": {},
   "source": [
    "# Summary\n",
    "\n",
    "- I've examined the corpus of 'R' tag of StackOverflow answers and saw that the top 9 most common words are essentially the same in both groups. Using a t-test, we saw that by failing to reject the null hypothesis, the two groups are not statistically significant.\n",
    "\n",
    "- So based on this analysis, it seems that all the answers were the top answer to their respective questions. This would make sense as if people accept the answer of a R Stack Overflow question, chances are other people won't chime in on the question as it has widely been accepted by many SO users.\n",
    "\n",
    "- Even though having a graph with half of the node with a in-degree may not seem like insight, we can examine using visualizing software how the network graph looks in regards to answer scores and see if there is a trend amongst users as well as the question being asked.\n",
    "\n",
    "- Future things to attempt or investigate are\n",
    "\n",
    "    1. Given a answer to a question, can we classify if it will be accepted by the SO community or not?\n",
    "        \n",
    "    2. Do the same or similar analysis but for questions instead. What network graph visualization will be different than those of answers?\n",
    "        \n",
    "    3. What other trends in 'r' tag SO questions are also mostly used and perform network analysis based on different tags.\n",
    "    \n",
    "    4. Do the same text processing but search for html tags to see which is most popular and if it affects answer scores or not."
   ]
  },
  {
   "cell_type": "code",
   "execution_count": 17,
   "metadata": {},
   "outputs": [],
   "source": [
    "nx.write_gexf(DG, \"R_SO_Answers_Graph.gexf\")"
   ]
  },
  {
   "cell_type": "code",
   "execution_count": null,
   "metadata": {},
   "outputs": [],
   "source": []
  }
 ],
 "metadata": {
  "kernelspec": {
   "display_name": "Python 2",
   "language": "python",
   "name": "python2"
  },
  "language_info": {
   "codemirror_mode": {
    "name": "ipython",
    "version": 2
   },
   "file_extension": ".py",
   "mimetype": "text/x-python",
   "name": "python",
   "nbconvert_exporter": "python",
   "pygments_lexer": "ipython2",
   "version": "2.7.15"
  }
 },
 "nbformat": 4,
 "nbformat_minor": 2
}
