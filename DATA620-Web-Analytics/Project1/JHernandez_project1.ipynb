{
 "cells": [
  {
   "cell_type": "markdown",
   "metadata": {},
   "source": [
    "# -*- coding: utf-8 -*-\n",
    "\"\"\"\n",
    "Created on Sun Sep 23 20:44:14 2018\n",
    "\n",
    "@author: Jonathan Hernandez\n",
    "\n",
    "This project is looking at a graph of primary school data.\n",
    "It contains a network of contacts between children and teachers used in a \n",
    "publication of infectious Deseases. A node between people means there was\n",
    "contact/interaction between them. The edge weight is the time duration the \n",
    "interaction was taking place. There are other attributes such as classname and gender.\n",
    "\n",
    "I will look and compare the degree and eigenvector centrality between the nodes.\n",
    "I will then group the nodes and their centralities by gender and plot the \n",
    "degree/eigenvector centralities histogram distribution. Finally I will perform a\n",
    "2-sample t-test between genders and see if there is any difference in their means.\n",
    "\n",
    "Data was extracted from:\n",
    "http://www.sociopatterns.org/datasets/primary-school-temporal-network-data/\n",
    "\n",
    "Citation:\n",
    "\n",
    "Mitigation of infectious disease at school: targeted class closure vs school closure,\n",
    "BMC Infectious Diseases 14:695 (2014)\n",
    "\n",
    "High-Resolution Measurements of Face-to-Face Contact Patterns in a Primary School,\n",
    "PLOS ONE 6(8): e23176 (2011)\n",
    "\n",
    "Collaboration doene with SocioPatterns: http://www.sociopatterns.org/\n",
    "\"\"\""
   ]
  },
  {
   "cell_type": "code",
   "execution_count": 2,
   "metadata": {},
   "outputs": [],
   "source": [
    "import pandas as pd\n",
    "import networkx as nx\n",
    "import matplotlib.pylab as pyplot\n",
    "import scipy.stats"
   ]
  },
  {
   "cell_type": "code",
   "execution_count": 3,
   "metadata": {},
   "outputs": [],
   "source": [
    "# read in the dataset\n",
    "school = pd.read_csv('primaryschool.csv', delimiter = '\\t', header=None,\n",
    "                     names=['timestamp','node_from', 'node_to', 'classname_from',\n",
    "                              'classname_to'])"
   ]
  },
  {
   "cell_type": "code",
   "execution_count": 4,
   "metadata": {},
   "outputs": [],
   "source": [
    "# built the graph from the pandas dataset school\n",
    "G = nx.from_pandas_edgelist(school, 'node_from', 'node_to', 'timestamp')"
   ]
  },
  {
   "cell_type": "code",
   "execution_count": 5,
   "metadata": {},
   "outputs": [
    {
     "name": "stdout",
     "output_type": "stream",
     "text": [
      "Number of Nodes: 242\n",
      "Number of Edges: 8317\n"
     ]
    }
   ],
   "source": [
    "# print stats\n",
    "print(\"Number of Nodes: \" + str(nx.number_of_nodes(G)))\n",
    "print(\"Number of Edges: \" + str(nx.number_of_edges(G)))"
   ]
  },
  {
   "cell_type": "code",
   "execution_count": 6,
   "metadata": {},
   "outputs": [
    {
     "name": "stdout",
     "output_type": "stream",
     "text": [
      "Density: 0.285209697884\n",
      "Diameter: 3\n"
     ]
    }
   ],
   "source": [
    "# print out diameter and density of the graph\n",
    "print(\"Density: \" + str(nx.density(G)))\n",
    "print(\"Diameter: \" + str(nx.diameter(G)))"
   ]
  },
  {
   "cell_type": "code",
   "execution_count": 7,
   "metadata": {},
   "outputs": [],
   "source": [
    "deg_centrality = nx.degree_centrality(G) # compute degree centrality for each node\n",
    "eigen_centrality = nx.eigenvector_centrality(G) # compute eigenvector centrality for each node"
   ]
  },
  {
   "cell_type": "code",
   "execution_count": 8,
   "metadata": {},
   "outputs": [],
   "source": [
    "# take the degree centrality and make it into it's own dataset\n",
    "deg_centrality = pd.DataFrame.from_dict(deg_centrality, orient = 'index').rename(columns={0: 'degree_centrality'})\n",
    "# since we had to use orient as index for the row indicies, make a column out of the nodes (row indicies)\n",
    "deg_centrality['node'] = deg_centrality.index\n",
    "# drop the row indicies\n",
    "deg_centrality.reset_index(drop=True, inplace=True)\n",
    "# sort by node id this will be easier to import the classnames for analysis\n",
    "deg_centrality = deg_centrality.sort_values(by=['node'])"
   ]
  },
  {
   "cell_type": "code",
   "execution_count": 9,
   "metadata": {},
   "outputs": [],
   "source": [
    "# Do the same for the eigenvector centrality\n",
    "\n",
    "eigen_centrality = pd.DataFrame.from_dict(eigen_centrality, orient = 'index').rename(columns={0: 'eigenvector_centrality'})\n",
    "# since we had to use orient as index for the row indicies, make a column out of the nodes (row indicies)\n",
    "eigen_centrality['node'] = eigen_centrality.index\n",
    "# drop the row indicies\n",
    "eigen_centrality.reset_index(drop=True, inplace=True)\n",
    "# sort by node id so this way we can import the classnames and gender easily\n",
    "eigen_centrality = eigen_centrality.sort_values(by=['node'])"
   ]
  },
  {
   "cell_type": "code",
   "execution_count": 10,
   "metadata": {},
   "outputs": [],
   "source": [
    "# make the gender/classname columns for analysis and testing\n",
    "metadata_school = pd.read_csv('metadata.txt', delimiter = '\\t', header = None,\n",
    "                              names = ['node', 'classname', 'gender'])\n",
    "metadata_school = metadata_school.sort_values(by=['node'])"
   ]
  },
  {
   "cell_type": "code",
   "execution_count": 11,
   "metadata": {},
   "outputs": [],
   "source": [
    "# add the classname and gender as well (attribute in question to the centrality datasets)\n",
    "deg_centrality['classname'] = metadata_school['classname']\n",
    "eigen_centrality['classname'] = metadata_school['classname']\n",
    "deg_centrality['gender'] = metadata_school['gender']\n",
    "eigen_centrality['gender'] = metadata_school['gender']"
   ]
  },
  {
   "cell_type": "code",
   "execution_count": 12,
   "metadata": {},
   "outputs": [],
   "source": [
    "# group based on gender (Male, Female and Unknown)\n",
    "male_deg = deg_centrality[deg_centrality['gender'] == 'M']\n",
    "male_eigen = eigen_centrality[eigen_centrality['gender'] == 'M']\n",
    "\n",
    "female_deg = deg_centrality[deg_centrality['gender'] == 'F']\n",
    "female_eigen = eigen_centrality[eigen_centrality['gender'] == 'F']\n",
    "\n",
    "unknown_deg = deg_centrality[deg_centrality['gender'] == 'Unknown']\n",
    "unknown_eigen = eigen_centrality[eigen_centrality['gender'] == 'Unknown']"
   ]
  },
  {
   "cell_type": "code",
   "execution_count": 13,
   "metadata": {},
   "outputs": [
    {
     "data": {
      "image/png": "[encoded data removed]",
      "text/plain": [
       "<Figure size 432x288 with 6 Axes>"
      ]
     },
     "metadata": {
      "needs_background": "light"
     },
     "output_type": "display_data"
    }
   ],
   "source": [
    "# degree and eigenvector centralities vs gender plots\n",
    "fig, axes = pyplot.subplots(nrows=2, ncols=3)\n",
    "(ax1, ax2, ax3, ax4, ax5, ax6) = axes.flatten()\n",
    "ax1.hist(male_deg.degree_centrality)\n",
    "ax2.hist(female_deg.degree_centrality)\n",
    "ax3.hist(unknown_deg.degree_centrality)\n",
    "ax4.hist(male_eigen.eigenvector_centrality)\n",
    "ax5.hist(female_eigen.eigenvector_centrality)\n",
    "ax6.hist(unknown_eigen.eigenvector_centrality)\n",
    "ax1.set_title('Male degree centrality')\n",
    "ax2.set_title('Female degree centrality')\n",
    "ax3.set_title('Unknown gender degree centrality')\n",
    "ax4.set_title('Male eigenvector centrality')\n",
    "ax5.set_title('Female eigenvector centrality')\n",
    "ax6.set_title('Unknown gender eigenvector centrality')\n",
    "pyplot.show()"
   ]
  },
  {
   "cell_type": "code",
   "execution_count": 14,
   "metadata": {},
   "outputs": [
    {
     "name": "stdout",
     "output_type": "stream",
     "text": [
      "t-test results for degree centrality - p-value: 0.8608\n"
     ]
    }
   ],
   "source": [
    "# t testing on the male and female means for degree and eigenvector centrality\n",
    "t_test_degree_centrality = scipy.stats.ttest_ind(male_deg.degree_centrality, female_deg.degree_centrality)\n",
    "print(\"t-test results for degree centrality - p-value: \" + str(round(t_test_degree_centrality.pvalue, 4)))"
   ]
  },
  {
   "cell_type": "code",
   "execution_count": 15,
   "metadata": {},
   "outputs": [
    {
     "name": "stdout",
     "output_type": "stream",
     "text": [
      "t-test results for eigenvector centrality - p-value: 0.7739\n"
     ]
    }
   ],
   "source": [
    "t_test_eigenvector_centrality = scipy.stats.ttest_ind(male_eigen.eigenvector_centrality, female_eigen.eigenvector_centrality)\n",
    "print(\"t-test results for eigenvector centrality - p-value: \" + str(round(t_test_eigenvector_centrality.pvalue, 4)))"
   ]
  },
  {
   "cell_type": "markdown",
   "metadata": {},
   "source": [
    "\"\"\" We see the p-values being pretty high for both centralities across the 2\n",
    "gender groups. We can say we fail to reject the null hypothesis for both cases.\n",
    "The average degree centrality and eigenvector centrality for the gender groups doesn't\n",
    "change much regardless of gender (Male or Female)\n",
    "\"\"\""
   ]
  },
  {
   "cell_type": "markdown",
   "metadata": {},
   "source": [
    "Link to video recording: https://youtu.be/SWD4cf_QDdY"
   ]
  },
  {
   "cell_type": "code",
   "execution_count": null,
   "metadata": {},
   "outputs": [],
   "source": []
  }
 ],
 "metadata": {
  "kernelspec": {
   "display_name": "Python 2",
   "language": "python",
   "name": "python2"
  },
  "language_info": {
   "codemirror_mode": {
    "name": "ipython",
    "version": 2
   },
   "file_extension": ".py",
   "mimetype": "text/x-python",
   "name": "python",
   "nbconvert_exporter": "python",
   "pygments_lexer": "ipython2",
   "version": "2.7.15"
  }
 },
 "nbformat": 4,
 "nbformat_minor": 2
}
